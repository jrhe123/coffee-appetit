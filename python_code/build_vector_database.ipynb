{
 "cells": [
  {
   "cell_type": "code",
   "execution_count": 1,
   "id": "374c298d",
   "metadata": {},
   "outputs": [
    {
     "name": "stderr",
     "output_type": "stream",
     "text": [
      "/Users/jiaronghe/Desktop/projects/react-native/coffee-appetit/.venv/lib/python3.12/site-packages/tqdm/auto.py:21: TqdmWarning: IProgress not found. Please update jupyter and ipywidgets. See https://ipywidgets.readthedocs.io/en/stable/user_install.html\n",
      "  from .autonotebook import tqdm as notebook_tqdm\n"
     ]
    },
    {
     "data": {
      "text/plain": [
       "True"
      ]
     },
     "execution_count": 1,
     "metadata": {},
     "output_type": "execute_result"
    }
   ],
   "source": [
    "from pinecone import Pinecone, ServerlessSpec\n",
    "import os\n",
    "from openai import OpenAI\n",
    "import pandas as pd\n",
    "from time import time\n",
    "import dotenv\n",
    "\n",
    "dotenv.load_dotenv()"
   ]
  },
  {
   "cell_type": "code",
   "execution_count": 3,
   "id": "c0117552",
   "metadata": {},
   "outputs": [],
   "source": [
    "openai_api_key = os.getenv(\"OPENAI_API_KEY\") \n",
    "openai_model_name = os.getenv(\"OPENAI_EMBEDDING_MODEL_NAME\") \n",
    "pinecone_api_key = os.getenv(\"PINECONE_API_KEY\") "
   ]
  },
  {
   "cell_type": "code",
   "execution_count": null,
   "id": "8c57660e",
   "metadata": {},
   "outputs": [],
   "source": [
    "pc = Pinecone(api_key=pinecone_api_key)\n",
    "\n",
    "client = OpenAI(\n",
    "  api_key=token, \n",
    "  base_url=open_ai_base_url\n",
    ")"
   ]
  },
  {
   "cell_type": "markdown",
   "id": "ea1eabbb",
   "metadata": {},
   "source": [
    "### Try out embeddings"
   ]
  },
  {
   "cell_type": "code",
   "execution_count": null,
   "id": "aba255f1",
   "metadata": {},
   "outputs": [],
   "source": [
    "output = client.embeddings.create(input = [\"helloo there\"],model=model_name)\n",
    "embedings = output.data[0].embedding"
   ]
  },
  {
   "cell_type": "code",
   "execution_count": null,
   "id": "041fa960",
   "metadata": {},
   "outputs": [],
   "source": [
    "print(embedings)"
   ]
  },
  {
   "cell_type": "code",
   "execution_count": null,
   "id": "681c080a",
   "metadata": {},
   "outputs": [],
   "source": [
    "len(embedings)"
   ]
  },
  {
   "cell_type": "markdown",
   "id": "6ec44a14",
   "metadata": {},
   "source": [
    "### Wrangle dataset"
   ]
  },
  {
   "cell_type": "code",
   "execution_count": null,
   "id": "9de1c61f",
   "metadata": {},
   "outputs": [],
   "source": [
    "df=pd.read_json('products/products.jsonl',lines=True)"
   ]
  },
  {
   "cell_type": "code",
   "execution_count": null,
   "id": "a8eb58f6",
   "metadata": {},
   "outputs": [],
   "source": [
    "df.head(2)"
   ]
  },
  {
   "cell_type": "code",
   "execution_count": null,
   "id": "bf105614",
   "metadata": {},
   "outputs": [],
   "source": [
    "df['text'] =  df['name']+\" : \"+df['description'] + \\\n",
    "                \" -- Ingredients: \" + df['ingredients'].astype(str) + \\\n",
    "                \" -- Price: \" + df['price'].astype(str) + \\\n",
    "                \" -- rating: \" + df['rating'].astype(str) "
   ]
  },
  {
   "cell_type": "code",
   "execution_count": null,
   "id": "0a3f69f1",
   "metadata": {},
   "outputs": [],
   "source": [
    "df['text'].head()"
   ]
  },
  {
   "cell_type": "code",
   "execution_count": null,
   "id": "2a88fdbc",
   "metadata": {},
   "outputs": [],
   "source": [
    "texts = df['text'].tolist()"
   ]
  },
  {
   "cell_type": "code",
   "execution_count": null,
   "id": "f3a9aa2c",
   "metadata": {},
   "outputs": [],
   "source": [
    "with open('products/Merry\\'s_way_about_us.txt') as f:\n",
    "    Merry_way_about_section = f.read()\n",
    "    \n",
    "Merry_way_about_section = \"Coffee shop Merry's Way about section: \" + Merry_way_about_section\n",
    "texts.append(Merry_way_about_section)"
   ]
  },
  {
   "cell_type": "code",
   "execution_count": null,
   "id": "e5a60503",
   "metadata": {},
   "outputs": [],
   "source": [
    "with open('products/menu_items_text.txt') as f:\n",
    "    menue_items_text = f.read()\n",
    "    \n",
    "menue_items_text = \"Menu Items: \" + menue_items_text\n",
    "texts.append(menue_items_text)"
   ]
  },
  {
   "cell_type": "markdown",
   "id": "9dd4be19",
   "metadata": {},
   "source": [
    "### Generate Embeddings"
   ]
  },
  {
   "cell_type": "code",
   "execution_count": null,
   "id": "5aa8febc",
   "metadata": {},
   "outputs": [],
   "source": [
    "output = client.embeddings.create(input = texts,model=model_name)"
   ]
  },
  {
   "cell_type": "code",
   "execution_count": null,
   "id": "bdcc01b5",
   "metadata": {},
   "outputs": [],
   "source": [
    "embeddings = output.data"
   ]
  },
  {
   "cell_type": "markdown",
   "id": "584204f5",
   "metadata": {},
   "source": [
    "### Push data to database"
   ]
  },
  {
   "cell_type": "code",
   "execution_count": null,
   "id": "f4e47268",
   "metadata": {},
   "outputs": [],
   "source": [
    "index_name = \"coffee-appetit\"\n",
    "\n",
    "pc.create_index(\n",
    "    name=index_name,\n",
    "    dimension=384, # Replace with your model dimensions\n",
    "    metric=\"cosine\", # Replace with your model metric\n",
    "    spec=ServerlessSpec(\n",
    "        cloud=\"aws\",\n",
    "        region=\"us-east-1\"\n",
    "    ) \n",
    ")"
   ]
  },
  {
   "cell_type": "code",
   "execution_count": null,
   "id": "ca134756",
   "metadata": {},
   "outputs": [],
   "source": [
    "# Wait for the index to be ready\n",
    "while not pc.describe_index(index_name).status['ready']:\n",
    "    time.sleep(1)\n",
    "\n",
    "index = pc.Index(index_name)\n",
    "\n",
    "vectors = []\n",
    "for text, e in zip(texts, embeddings):\n",
    "    entry_id = text.split(\":\")[0].strip()\n",
    "    vectors.append({\n",
    "        \"id\": entry_id,\n",
    "        \"values\": e.embedding,\n",
    "        \"metadata\": {'text': text}\n",
    "    })\n",
    "    \n",
    "index.upsert(\n",
    "    vectors=vectors,\n",
    "    namespace=\"ns1\"\n",
    ")"
   ]
  },
  {
   "cell_type": "markdown",
   "id": "38de3b27",
   "metadata": {},
   "source": [
    "### Get Closest documents"
   ]
  },
  {
   "cell_type": "code",
   "execution_count": null,
   "id": "e87f6eab",
   "metadata": {},
   "outputs": [],
   "source": [
    "output = client.embeddings.create(input = [\"Is Cappuccino lactose-free?\"],model=model_name)\n",
    "embeding = output.data[0].embedding"
   ]
  },
  {
   "cell_type": "code",
   "execution_count": null,
   "id": "e523d2c6",
   "metadata": {},
   "outputs": [],
   "source": [
    "results = index.query(\n",
    "    namespace=\"ns1\",\n",
    "    vector=embeding,\n",
    "    top_k=3,\n",
    "    include_values=False,\n",
    "    include_metadata=True\n",
    ")\n",
    "\n",
    "print(results)"
   ]
  }
 ],
 "metadata": {
  "kernelspec": {
   "display_name": ".venv",
   "language": "python",
   "name": "python3"
  },
  "language_info": {
   "codemirror_mode": {
    "name": "ipython",
    "version": 3
   },
   "file_extension": ".py",
   "mimetype": "text/x-python",
   "name": "python",
   "nbconvert_exporter": "python",
   "pygments_lexer": "ipython3",
   "version": "3.12.0"
  }
 },
 "nbformat": 4,
 "nbformat_minor": 5
}
